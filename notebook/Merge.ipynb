{
 "metadata": {
  "name": ""
 },
 "nbformat": 3,
 "nbformat_minor": 0,
 "worksheets": [
  {
   "cells": [
    {
     "cell_type": "markdown",
     "metadata": {},
     "source": [
      "Merge Process:"
     ]
    },
    {
     "cell_type": "code",
     "collapsed": false,
     "input": [
      "from pandas import *"
     ],
     "language": "python",
     "metadata": {},
     "outputs": [],
     "prompt_number": 2
    },
    {
     "cell_type": "code",
     "collapsed": false,
     "input": [
      "df = read_csv(\"../VCPnUS_data.csv\")"
     ],
     "language": "python",
     "metadata": {},
     "outputs": [],
     "prompt_number": 3
    },
    {
     "cell_type": "markdown",
     "metadata": {},
     "source": [
      "ComTrade:"
     ]
    },
    {
     "cell_type": "code",
     "collapsed": false,
     "input": [
      "c2003 = read_csv(\"../comtrade_trade_data 2003.csv\")"
     ],
     "language": "python",
     "metadata": {},
     "outputs": [],
     "prompt_number": 5
    },
    {
     "cell_type": "markdown",
     "metadata": {},
     "source": [
      "c2003 = read_csv(\"comtrade_trade_data 2003.csv\")\n",
      "c2004 = read_csv(\"comtrade_trade_data 2004.csv\")\n",
      "c2005 = read_csv(\"comtrade_trade_data 2005.csv\")\n",
      "c2006 = read_csv(\"comtrade_trade_data 2006.csv\")\n",
      "c2007 = read_csv(\"comtrade_trade_data 2007.csv\")\n",
      "c2008 = read_csv(\"comtrade_trade_data 2008.csv\")\n",
      "c2009 = read_csv(\"comtrade_trade_data 2009.csv\")\n",
      "c2010 = read_csv(\"comtrade_trade_data 2010.csv\")"
     ]
    },
    {
     "cell_type": "code",
     "collapsed": false,
     "input": [
      "c2003.head()"
     ],
     "language": "python",
     "metadata": {},
     "outputs": [
      {
       "html": [
        "<div style=\"max-height:1000px;max-width:1500px;overflow:auto;\">\n",
        "<table border=\"1\" class=\"dataframe\">\n",
        "  <thead>\n",
        "    <tr style=\"text-align: right;\">\n",
        "      <th></th>\n",
        "      <th>Year</th>\n",
        "      <th>Reporter Code</th>\n",
        "      <th>Trade Flow Code</th>\n",
        "      <th>Partner Code</th>\n",
        "      <th>Classification</th>\n",
        "      <th>Commodity Code</th>\n",
        "      <th>Quantity Unit Code</th>\n",
        "      <th>Supplementary Quantity</th>\n",
        "      <th>Netweight (kg)</th>\n",
        "      <th>Value</th>\n",
        "      <th>Estimation Code</th>\n",
        "    </tr>\n",
        "  </thead>\n",
        "  <tbody>\n",
        "    <tr>\n",
        "      <th>0</th>\n",
        "      <td> 2003</td>\n",
        "      <td> 381</td>\n",
        "      <td> 2</td>\n",
        "      <td> 36</td>\n",
        "      <td> H2</td>\n",
        "      <td> 070951</td>\n",
        "      <td> 8</td>\n",
        "      <td>  1274</td>\n",
        "      <td>  1274</td>\n",
        "      <td>  13810</td>\n",
        "      <td> 0</td>\n",
        "    </tr>\n",
        "    <tr>\n",
        "      <th>1</th>\n",
        "      <td> 2003</td>\n",
        "      <td> 381</td>\n",
        "      <td> 2</td>\n",
        "      <td> 36</td>\n",
        "      <td> H2</td>\n",
        "      <td> 070930</td>\n",
        "      <td> 8</td>\n",
        "      <td> 17150</td>\n",
        "      <td> 17150</td>\n",
        "      <td>  30626</td>\n",
        "      <td> 0</td>\n",
        "    </tr>\n",
        "    <tr>\n",
        "      <th>2</th>\n",
        "      <td> 2003</td>\n",
        "      <td> 381</td>\n",
        "      <td> 2</td>\n",
        "      <td> 36</td>\n",
        "      <td> H2</td>\n",
        "      <td>   0709</td>\n",
        "      <td> 8</td>\n",
        "      <td> 20493</td>\n",
        "      <td> 20493</td>\n",
        "      <td> 635840</td>\n",
        "      <td> 0</td>\n",
        "    </tr>\n",
        "    <tr>\n",
        "      <th>3</th>\n",
        "      <td> 2003</td>\n",
        "      <td> 381</td>\n",
        "      <td> 1</td>\n",
        "      <td> 36</td>\n",
        "      <td> H2</td>\n",
        "      <td>   0507</td>\n",
        "      <td> 8</td>\n",
        "      <td>  5200</td>\n",
        "      <td>  5200</td>\n",
        "      <td>  27619</td>\n",
        "      <td> 0</td>\n",
        "    </tr>\n",
        "    <tr>\n",
        "      <th>4</th>\n",
        "      <td> 2003</td>\n",
        "      <td> 381</td>\n",
        "      <td> 1</td>\n",
        "      <td> 36</td>\n",
        "      <td> H2</td>\n",
        "      <td> 050400</td>\n",
        "      <td> 8</td>\n",
        "      <td> 56439</td>\n",
        "      <td> 56439</td>\n",
        "      <td> 683104</td>\n",
        "      <td> 0</td>\n",
        "    </tr>\n",
        "  </tbody>\n",
        "</table>\n",
        "</div>"
       ],
       "metadata": {},
       "output_type": "pyout",
       "prompt_number": 6,
       "text": [
        "   Year  Reporter Code  Trade Flow Code  Partner Code Classification  \\\n",
        "0  2003            381                2            36             H2   \n",
        "1  2003            381                2            36             H2   \n",
        "2  2003            381                2            36             H2   \n",
        "3  2003            381                1            36             H2   \n",
        "4  2003            381                1            36             H2   \n",
        "\n",
        "  Commodity Code  Quantity Unit Code  Supplementary Quantity  Netweight (kg)  \\\n",
        "0         070951                   8                    1274            1274   \n",
        "1         070930                   8                   17150           17150   \n",
        "2           0709                   8                   20493           20493   \n",
        "3           0507                   8                    5200            5200   \n",
        "4         050400                   8                   56439           56439   \n",
        "\n",
        "    Value  Estimation Code  \n",
        "0   13810                0  \n",
        "1   30626                0  \n",
        "2  635840                0  \n",
        "3   27619                0  \n",
        "4  683104                0  "
       ]
      }
     ],
     "prompt_number": 6
    },
    {
     "cell_type": "markdown",
     "metadata": {},
     "source": [
      "Basic Distance:"
     ]
    },
    {
     "cell_type": "code",
     "collapsed": false,
     "input": [
      "c2003['Partner Code'].value_counts()"
     ],
     "language": "python",
     "metadata": {},
     "outputs": [
      {
       "metadata": {},
       "output_type": "pyout",
       "prompt_number": 20,
       "text": [
        "826    10836\n",
        "757     9715\n",
        "392     7650\n",
        "752     7558\n",
        "124     6271\n",
        "36      5563\n",
        "dtype: int64"
       ]
      }
     ],
     "prompt_number": 20
    },
    {
     "cell_type": "code",
     "collapsed": false,
     "input": [
      "dist = read_csv(\"../big 6 distance.csv\")"
     ],
     "language": "python",
     "metadata": {},
     "outputs": [],
     "prompt_number": 8
    },
    {
     "cell_type": "code",
     "collapsed": false,
     "input": [
      "dist"
     ],
     "language": "python",
     "metadata": {},
     "outputs": [
      {
       "html": [
        "<div style=\"max-height:1000px;max-width:1500px;overflow:auto;\">\n",
        "<table border=\"1\" class=\"dataframe\">\n",
        "  <thead>\n",
        "    <tr style=\"text-align: right;\">\n",
        "      <th></th>\n",
        "      <th>Start</th>\n",
        "      <th>Finish</th>\n",
        "      <th>CC</th>\n",
        "      <th>ComTrade_CC</th>\n",
        "      <th>Distance_miles</th>\n",
        "    </tr>\n",
        "  </thead>\n",
        "  <tbody>\n",
        "    <tr>\n",
        "      <th>0</th>\n",
        "      <td> Rome, Italy</td>\n",
        "      <td> London, United Kingdom</td>\n",
        "      <td> 234</td>\n",
        "      <td> 826</td>\n",
        "      <td>   891.946</td>\n",
        "    </tr>\n",
        "    <tr>\n",
        "      <th>1</th>\n",
        "      <td> Rome, Italy</td>\n",
        "      <td>           Tokyo, Japan</td>\n",
        "      <td> 112</td>\n",
        "      <td> 392</td>\n",
        "      <td>  6130.466</td>\n",
        "    </tr>\n",
        "    <tr>\n",
        "      <th>2</th>\n",
        "      <td> Rome, Italy</td>\n",
        "      <td>    Canberra, Australia</td>\n",
        "      <td>  14</td>\n",
        "      <td>  36</td>\n",
        "      <td> 10088.309</td>\n",
        "    </tr>\n",
        "    <tr>\n",
        "      <th>3</th>\n",
        "      <td> Rome, Italy</td>\n",
        "      <td>         Ottawa, Canada</td>\n",
        "      <td>  40</td>\n",
        "      <td> 124</td>\n",
        "      <td>  4185.750</td>\n",
        "    </tr>\n",
        "    <tr>\n",
        "      <th>4</th>\n",
        "      <td> Rome, Italy</td>\n",
        "      <td>      Stockholm, Sweden</td>\n",
        "      <td> 214</td>\n",
        "      <td> 752</td>\n",
        "      <td>  1229.658</td>\n",
        "    </tr>\n",
        "    <tr>\n",
        "      <th>5</th>\n",
        "      <td> Rome, Italy</td>\n",
        "      <td>      Bern, Switzerland</td>\n",
        "      <td> 215</td>\n",
        "      <td> 757</td>\n",
        "      <td>   428.989</td>\n",
        "    </tr>\n",
        "    <tr>\n",
        "      <th>6</th>\n",
        "      <td> Rome, Italy</td>\n",
        "      <td>            Rome, Italy</td>\n",
        "      <td> 110</td>\n",
        "      <td> 381</td>\n",
        "      <td>     0.000</td>\n",
        "    </tr>\n",
        "  </tbody>\n",
        "</table>\n",
        "</div>"
       ],
       "metadata": {},
       "output_type": "pyout",
       "prompt_number": 9,
       "text": [
        "         Start                  Finish   CC  ComTrade_CC  Distance_miles\n",
        "0  Rome, Italy  London, United Kingdom  234          826         891.946\n",
        "1  Rome, Italy            Tokyo, Japan  112          392        6130.466\n",
        "2  Rome, Italy     Canberra, Australia   14           36       10088.309\n",
        "3  Rome, Italy          Ottawa, Canada   40          124        4185.750\n",
        "4  Rome, Italy       Stockholm, Sweden  214          752        1229.658\n",
        "5  Rome, Italy       Bern, Switzerland  215          757         428.989\n",
        "6  Rome, Italy             Rome, Italy  110          381           0.000"
       ]
      }
     ],
     "prompt_number": 9
    },
    {
     "cell_type": "markdown",
     "metadata": {},
     "source": [
      "Merging:"
     ]
    },
    {
     "cell_type": "code",
     "collapsed": false,
     "input": [
      "df = merge(df, dist, left_on=\"cod\", right_on=\"CC\")"
     ],
     "language": "python",
     "metadata": {},
     "outputs": [],
     "prompt_number": 10
    },
    {
     "cell_type": "code",
     "collapsed": false,
     "input": [
      "df.cod.irow(0)"
     ],
     "language": "python",
     "metadata": {},
     "outputs": [
      {
       "metadata": {},
       "output_type": "pyout",
       "prompt_number": 11,
       "text": [
        "215.0"
       ]
      }
     ],
     "prompt_number": 11
    },
    {
     "cell_type": "code",
     "collapsed": false,
     "input": [
      "df.ix[:,[24,25,90,91,92]].head()"
     ],
     "language": "python",
     "metadata": {},
     "outputs": [
      {
       "html": [
        "<div style=\"max-height:1000px;max-width:1500px;overflow:auto;\">\n",
        "<table border=\"1\" class=\"dataframe\">\n",
        "  <thead>\n",
        "    <tr style=\"text-align: right;\">\n",
        "      <th></th>\n",
        "      <th>mporter</th>\n",
        "      <th>cod</th>\n",
        "      <th>CC</th>\n",
        "      <th>ComTrade_CC</th>\n",
        "      <th>Distance_miles</th>\n",
        "    </tr>\n",
        "  </thead>\n",
        "  <tbody>\n",
        "    <tr>\n",
        "      <th>0</th>\n",
        "      <td> 110</td>\n",
        "      <td> 215</td>\n",
        "      <td> 215</td>\n",
        "      <td> 757</td>\n",
        "      <td> 428.989</td>\n",
        "    </tr>\n",
        "    <tr>\n",
        "      <th>1</th>\n",
        "      <td> 110</td>\n",
        "      <td> 215</td>\n",
        "      <td> 215</td>\n",
        "      <td> 757</td>\n",
        "      <td> 428.989</td>\n",
        "    </tr>\n",
        "    <tr>\n",
        "      <th>2</th>\n",
        "      <td> 110</td>\n",
        "      <td> 215</td>\n",
        "      <td> 215</td>\n",
        "      <td> 757</td>\n",
        "      <td> 428.989</td>\n",
        "    </tr>\n",
        "    <tr>\n",
        "      <th>3</th>\n",
        "      <td> 110</td>\n",
        "      <td> 215</td>\n",
        "      <td> 215</td>\n",
        "      <td> 757</td>\n",
        "      <td> 428.989</td>\n",
        "    </tr>\n",
        "    <tr>\n",
        "      <th>4</th>\n",
        "      <td> 110</td>\n",
        "      <td> 215</td>\n",
        "      <td> 215</td>\n",
        "      <td> 757</td>\n",
        "      <td> 428.989</td>\n",
        "    </tr>\n",
        "  </tbody>\n",
        "</table>\n",
        "</div>"
       ],
       "metadata": {},
       "output_type": "pyout",
       "prompt_number": 12,
       "text": [
        "   mporter  cod   CC  ComTrade_CC  Distance_miles\n",
        "0      110  215  215          757         428.989\n",
        "1      110  215  215          757         428.989\n",
        "2      110  215  215          757         428.989\n",
        "3      110  215  215          757         428.989\n",
        "4      110  215  215          757         428.989"
       ]
      }
     ],
     "prompt_number": 12
    },
    {
     "cell_type": "code",
     "collapsed": false,
     "input": [
      "c2003."
     ],
     "language": "python",
     "metadata": {},
     "outputs": []
    },
    {
     "cell_type": "code",
     "collapsed": false,
     "input": [
      "import pdb\n",
      "df = merge(df, c2003, left_on=['year', 'ComTrade_CC'], right_on=[\"Year\",\"Partner Code\"])\n"
     ],
     "language": "python",
     "metadata": {},
     "outputs": [
      {
       "ename": "MemoryError",
       "evalue": "",
       "output_type": "pyerr",
       "traceback": [
        "\u001b[1;31m---------------------------------------------------------------------------\u001b[0m\n\u001b[1;31mMemoryError\u001b[0m                               Traceback (most recent call last)",
        "\u001b[1;32m<ipython-input-13-f14c13ea9841>\u001b[0m in \u001b[0;36m<module>\u001b[1;34m()\u001b[0m\n\u001b[0;32m      1\u001b[0m \u001b[1;32mimport\u001b[0m \u001b[0mpdb\u001b[0m\u001b[1;33m\u001b[0m\u001b[0m\n\u001b[1;32m----> 2\u001b[1;33m \u001b[0mdf\u001b[0m \u001b[1;33m=\u001b[0m \u001b[0mmerge\u001b[0m\u001b[1;33m(\u001b[0m\u001b[0mdf\u001b[0m\u001b[1;33m,\u001b[0m \u001b[0mc2003\u001b[0m\u001b[1;33m,\u001b[0m \u001b[0mleft_on\u001b[0m\u001b[1;33m=\u001b[0m\u001b[1;33m[\u001b[0m\u001b[1;34m'year'\u001b[0m\u001b[1;33m,\u001b[0m \u001b[1;34m'ComTrade_CC'\u001b[0m\u001b[1;33m]\u001b[0m\u001b[1;33m,\u001b[0m \u001b[0mright_on\u001b[0m\u001b[1;33m=\u001b[0m\u001b[1;33m[\u001b[0m\u001b[1;34m\"Year\"\u001b[0m\u001b[1;33m,\u001b[0m\u001b[1;34m\"Partner Code\"\u001b[0m\u001b[1;33m]\u001b[0m\u001b[1;33m)\u001b[0m\u001b[1;33m\u001b[0m\u001b[0m\n\u001b[0m",
        "\u001b[1;32m/home/agconti/my_dev/github/US_Dollar_Vehicle_Currency/notebook/venv/local/lib/python2.7/site-packages/pandas/tools/merge.pyc\u001b[0m in \u001b[0;36mmerge\u001b[1;34m(left, right, how, on, left_on, right_on, left_index, right_index, sort, suffixes, copy)\u001b[0m\n\u001b[0;32m     35\u001b[0m                          \u001b[0mright_index\u001b[0m\u001b[1;33m=\u001b[0m\u001b[0mright_index\u001b[0m\u001b[1;33m,\u001b[0m \u001b[0msort\u001b[0m\u001b[1;33m=\u001b[0m\u001b[0msort\u001b[0m\u001b[1;33m,\u001b[0m \u001b[0msuffixes\u001b[0m\u001b[1;33m=\u001b[0m\u001b[0msuffixes\u001b[0m\u001b[1;33m,\u001b[0m\u001b[1;33m\u001b[0m\u001b[0m\n\u001b[0;32m     36\u001b[0m                          copy=copy)\n\u001b[1;32m---> 37\u001b[1;33m     \u001b[1;32mreturn\u001b[0m \u001b[0mop\u001b[0m\u001b[1;33m.\u001b[0m\u001b[0mget_result\u001b[0m\u001b[1;33m(\u001b[0m\u001b[1;33m)\u001b[0m\u001b[1;33m\u001b[0m\u001b[0m\n\u001b[0m\u001b[0;32m     38\u001b[0m \u001b[1;32mif\u001b[0m \u001b[0m__debug__\u001b[0m\u001b[1;33m:\u001b[0m\u001b[1;33m\u001b[0m\u001b[0m\n\u001b[0;32m     39\u001b[0m     \u001b[0mmerge\u001b[0m\u001b[1;33m.\u001b[0m\u001b[0m__doc__\u001b[0m \u001b[1;33m=\u001b[0m \u001b[0m_merge_doc\u001b[0m \u001b[1;33m%\u001b[0m \u001b[1;34m'\\nleft : DataFrame'\u001b[0m\u001b[1;33m\u001b[0m\u001b[0m\n",
        "\u001b[1;32m/home/agconti/my_dev/github/US_Dollar_Vehicle_Currency/notebook/venv/local/lib/python2.7/site-packages/pandas/tools/merge.pyc\u001b[0m in \u001b[0;36mget_result\u001b[1;34m(self)\u001b[0m\n\u001b[0;32m    192\u001b[0m                                       copy=self.copy)\n\u001b[0;32m    193\u001b[0m \u001b[1;33m\u001b[0m\u001b[0m\n\u001b[1;32m--> 194\u001b[1;33m         \u001b[0mresult_data\u001b[0m \u001b[1;33m=\u001b[0m \u001b[0mjoin_op\u001b[0m\u001b[1;33m.\u001b[0m\u001b[0mget_result\u001b[0m\u001b[1;33m(\u001b[0m\u001b[1;33m)\u001b[0m\u001b[1;33m\u001b[0m\u001b[0m\n\u001b[0m\u001b[0;32m    195\u001b[0m         \u001b[0mresult\u001b[0m \u001b[1;33m=\u001b[0m \u001b[0mDataFrame\u001b[0m\u001b[1;33m(\u001b[0m\u001b[0mresult_data\u001b[0m\u001b[1;33m)\u001b[0m\u001b[1;33m\u001b[0m\u001b[0m\n\u001b[0;32m    196\u001b[0m \u001b[1;33m\u001b[0m\u001b[0m\n",
        "\u001b[1;32m/home/agconti/my_dev/github/US_Dollar_Vehicle_Currency/notebook/venv/local/lib/python2.7/site-packages/pandas/tools/merge.pyc\u001b[0m in \u001b[0;36mget_result\u001b[1;34m(self)\u001b[0m\n\u001b[0;32m    691\u001b[0m                 \u001b[1;32mif\u001b[0m \u001b[0mklass\u001b[0m \u001b[1;32min\u001b[0m \u001b[0mmapping\u001b[0m\u001b[1;33m:\u001b[0m\u001b[1;33m\u001b[0m\u001b[0m\n\u001b[0;32m    692\u001b[0m                     \u001b[0mklass_blocks\u001b[0m\u001b[1;33m.\u001b[0m\u001b[0mextend\u001b[0m\u001b[1;33m(\u001b[0m\u001b[1;33m(\u001b[0m\u001b[0munit\u001b[0m\u001b[1;33m,\u001b[0m \u001b[0mb\u001b[0m\u001b[1;33m)\u001b[0m \u001b[1;32mfor\u001b[0m \u001b[0mb\u001b[0m \u001b[1;32min\u001b[0m \u001b[0mmapping\u001b[0m\u001b[1;33m[\u001b[0m\u001b[0mklass\u001b[0m\u001b[1;33m]\u001b[0m\u001b[1;33m)\u001b[0m\u001b[1;33m\u001b[0m\u001b[0m\n\u001b[1;32m--> 693\u001b[1;33m             \u001b[0mres_blk\u001b[0m \u001b[1;33m=\u001b[0m \u001b[0mself\u001b[0m\u001b[1;33m.\u001b[0m\u001b[0m_get_merged_block\u001b[0m\u001b[1;33m(\u001b[0m\u001b[0mklass_blocks\u001b[0m\u001b[1;33m)\u001b[0m\u001b[1;33m\u001b[0m\u001b[0m\n\u001b[0m\u001b[0;32m    694\u001b[0m             \u001b[0mresult_blocks\u001b[0m\u001b[1;33m.\u001b[0m\u001b[0mappend\u001b[0m\u001b[1;33m(\u001b[0m\u001b[0mres_blk\u001b[0m\u001b[1;33m)\u001b[0m\u001b[1;33m\u001b[0m\u001b[0m\n\u001b[0;32m    695\u001b[0m \u001b[1;33m\u001b[0m\u001b[0m\n",
        "\u001b[1;32m/home/agconti/my_dev/github/US_Dollar_Vehicle_Currency/notebook/venv/local/lib/python2.7/site-packages/pandas/tools/merge.pyc\u001b[0m in \u001b[0;36m_get_merged_block\u001b[1;34m(self, to_merge)\u001b[0m\n\u001b[0;32m    698\u001b[0m     \u001b[1;32mdef\u001b[0m \u001b[0m_get_merged_block\u001b[0m\u001b[1;33m(\u001b[0m\u001b[0mself\u001b[0m\u001b[1;33m,\u001b[0m \u001b[0mto_merge\u001b[0m\u001b[1;33m)\u001b[0m\u001b[1;33m:\u001b[0m\u001b[1;33m\u001b[0m\u001b[0m\n\u001b[0;32m    699\u001b[0m         \u001b[1;32mif\u001b[0m \u001b[0mlen\u001b[0m\u001b[1;33m(\u001b[0m\u001b[0mto_merge\u001b[0m\u001b[1;33m)\u001b[0m \u001b[1;33m>\u001b[0m \u001b[1;36m1\u001b[0m\u001b[1;33m:\u001b[0m\u001b[1;33m\u001b[0m\u001b[0m\n\u001b[1;32m--> 700\u001b[1;33m             \u001b[1;32mreturn\u001b[0m \u001b[0mself\u001b[0m\u001b[1;33m.\u001b[0m\u001b[0m_merge_blocks\u001b[0m\u001b[1;33m(\u001b[0m\u001b[0mto_merge\u001b[0m\u001b[1;33m)\u001b[0m\u001b[1;33m\u001b[0m\u001b[0m\n\u001b[0m\u001b[0;32m    701\u001b[0m         \u001b[1;32melse\u001b[0m\u001b[1;33m:\u001b[0m\u001b[1;33m\u001b[0m\u001b[0m\n\u001b[0;32m    702\u001b[0m             \u001b[0munit\u001b[0m\u001b[1;33m,\u001b[0m \u001b[0mblock\u001b[0m \u001b[1;33m=\u001b[0m \u001b[0mto_merge\u001b[0m\u001b[1;33m[\u001b[0m\u001b[1;36m0\u001b[0m\u001b[1;33m]\u001b[0m\u001b[1;33m\u001b[0m\u001b[0m\n",
        "\u001b[1;32m/home/agconti/my_dev/github/US_Dollar_Vehicle_Currency/notebook/venv/local/lib/python2.7/site-packages/pandas/tools/merge.pyc\u001b[0m in \u001b[0;36m_merge_blocks\u001b[1;34m(self, merge_chunks)\u001b[0m\n\u001b[0;32m    720\u001b[0m         \u001b[1;31m# Should use Fortran order??\u001b[0m\u001b[1;33m\u001b[0m\u001b[1;33m\u001b[0m\u001b[0m\n\u001b[0;32m    721\u001b[0m         \u001b[0mblock_dtype\u001b[0m \u001b[1;33m=\u001b[0m \u001b[0m_get_block_dtype\u001b[0m\u001b[1;33m(\u001b[0m\u001b[1;33m[\u001b[0m\u001b[0mx\u001b[0m\u001b[1;33m[\u001b[0m\u001b[1;36m1\u001b[0m\u001b[1;33m]\u001b[0m \u001b[1;32mfor\u001b[0m \u001b[0mx\u001b[0m \u001b[1;32min\u001b[0m \u001b[0mmerge_chunks\u001b[0m\u001b[1;33m]\u001b[0m\u001b[1;33m)\u001b[0m\u001b[1;33m\u001b[0m\u001b[0m\n\u001b[1;32m--> 722\u001b[1;33m         \u001b[0mout\u001b[0m \u001b[1;33m=\u001b[0m \u001b[0mnp\u001b[0m\u001b[1;33m.\u001b[0m\u001b[0mempty\u001b[0m\u001b[1;33m(\u001b[0m\u001b[0mout_shape\u001b[0m\u001b[1;33m,\u001b[0m \u001b[0mdtype\u001b[0m\u001b[1;33m=\u001b[0m\u001b[0mblock_dtype\u001b[0m\u001b[1;33m)\u001b[0m\u001b[1;33m\u001b[0m\u001b[0m\n\u001b[0m\u001b[0;32m    723\u001b[0m \u001b[1;33m\u001b[0m\u001b[0m\n\u001b[0;32m    724\u001b[0m         \u001b[0msofar\u001b[0m \u001b[1;33m=\u001b[0m \u001b[1;36m0\u001b[0m\u001b[1;33m\u001b[0m\u001b[0m\n",
        "\u001b[1;31mMemoryError\u001b[0m: "
       ]
      }
     ],
     "prompt_number": 13
    },
    {
     "cell_type": "markdown",
     "metadata": {},
     "source": [
      "\n",
      "for i in c_list:\n",
      "    df = merge(df, i, left_on=['year', 'ComTrade_CC'], right_on=[\"Year\",\"Partner Code\"])\n",
      "    break"
     ]
    },
    {
     "cell_type": "code",
     "collapsed": false,
     "input": [
      "pdb.pm()"
     ],
     "language": "python",
     "metadata": {},
     "outputs": [
      {
       "output_type": "stream",
       "stream": "stdout",
       "text": [
        "> /usr/local/lib/python2.7/dist-packages/pandas-0.12.0rc1_309_g9fc8636-py2.7-linux-x86_64.egg/pandas/tools/merge.py(730)_merge_blocks()\n",
        "-> out = np.empty(out_shape, dtype=block_dtype)\n"
       ]
      },
      {
       "name": "stdout",
       "output_type": "stream",
       "stream": "stdout",
       "text": [
        "(Pdb) out_shape\n"
       ]
      },
      {
       "output_type": "stream",
       "stream": "stdout",
       "text": [
        "[92, 32640825]\n"
       ]
      }
     ],
     "prompt_number": "*"
    },
    {
     "cell_type": "code",
     "collapsed": false,
     "input": [],
     "language": "python",
     "metadata": {},
     "outputs": []
    }
   ],
   "metadata": {}
  }
 ]
}