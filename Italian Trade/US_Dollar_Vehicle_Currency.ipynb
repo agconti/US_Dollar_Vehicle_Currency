{
 "metadata": {
  "name": "US_Dollar_Vehicle_Currency"
 },
 "nbformat": 3,
 "nbformat_minor": 0,
 "worksheets": [
  {
   "cells": [
    {
     "cell_type": "code",
     "collapsed": false,
     "input": [
      "from pandas import *\n",
      "from statsmodels.discrete.discrete_model import MNLogit, Logit\n",
      "from patsy import dmatrices"
     ],
     "language": "python",
     "metadata": {},
     "outputs": [],
     "prompt_number": 1
    },
    {
     "cell_type": "code",
     "collapsed": false,
     "input": [
      "import sys\n",
      "sys.path.append('C:\\Users\\Andrew\\Documents\\Kaggle\\Kaggle Aux')\n",
      "import kaggleaux as ka"
     ],
     "language": "python",
     "metadata": {},
     "outputs": [],
     "prompt_number": 2
    },
    {
     "cell_type": "markdown",
     "metadata": {},
     "source": [
      "This data represents every Italian import from outside of the EU from 2003 to 2010 that is priced in a vehicle currency.  A vehicle currency is a 3rd country's currency used to denominate the price of the traded good and the settlement currency of the transaction.  So for example when a Chinese firm exports to an Italian firm they could choose to use the Euro, the yuan or a 3rd country's currency.  Often this 3rd country's currency is the US Dollar.... but NOT always. \n",
      "\n",
      " \n",
      "\n",
      "The research question for this data is to learn why the US Dollar is NOT always the vehicle currency?  Under what circumstances is another currency of denomination chosen?  If not the US Dollar then what currency is being used?  If not the dollar then why, for example, the Japanese Yen instead of the Australian Dollar etc...?\n",
      "\n",
      " \n",
      "\n",
      "First things first.  Look over the attached index file.  It has information on the first sheet regarding the each variable (columns) about what they are and on the 2nd sheet there's a country id list (example, United States = 235).  Get used to what's in this data set.  And yes, it's huge about 1 GB!  That means analysis can be computationally cumbersome.  Also, read up on multinomial logit (http://www.ats.ucla.edu/stat/stata/dae/mlogit.htm).  That would probably be a good place, methodologically, to crunch these numbers. "
     ]
    },
    {
     "cell_type": "markdown",
     "metadata": {},
     "source": [
      "### Beginning of Lit Review\n",
      "http://www.newyorkfed.org/research/economists/goldberg/Revision_April_24.pdf\n",
      "We contrasts a \u201ccoalescing\u201d effect, where exporters minimize the movements of their prices \n",
      "relative to their competitors\u2019, with incentives to hedge macroeconomic volatility \n",
      "and transaction costs. The **key determinants of invoice currency choice are \n",
      "industry features and country size, with some role for foreign-exchange bid-ask \n",
      "spreads**. The coalescing effect also goes a long way to explaining the well-known \n",
      "dominance of the dollar. Trade flows to the United States are predominantly \n",
      "invoiced in dollar, as foreign exporters face competition with U.S. firms. The use \n",
      "of the dollar in trade flows that do not involve the United States reflects trade in \n",
      "homogenous products where firms need to keep their price in line\n",
      "\n",
      "**Krugman (1980)** argued that once a currency is \n",
      "established as the dominant one in a market, a particular firm has no incentive to invoice in an \n",
      "alternative currency as this would lead to higher transaction cost and more volatile sales \n",
      "because of movements in its price relative to its competitors\u2019. Once a currency has acquired a \n",
      "prominent role, it may keep this role even if another currency with similarly low costs emerges. \n",
      "\n",
      "A third line of argument emphasizes that invoicing currency selection is driven by the \n",
      "role of volatility in macroeconomic variables in different countries. Firms have an incentive to \n",
      "invoice their trade in the currency of a country where the volatility of shocks, such as those \n",
      "arising from monetary aggregates, is moderate, as this will ceteris paribus minimize the \n",
      "fluctuations in the exchange rates associated with the currency in questions\n",
      "\n",
      "###The dollar as an invoicing currency. \n",
      "The first dependent variable examined is the \n",
      "share of a country\u2019s exports that are invoiced in dollars, \n",
      "$B^e_{$}$ . Explanatory variables include the \n",
      "share of the United States as a destination market in country total exports, $X^e_us;^{25}$ the share of a country\u2019s exports that are in homogeneous goods (reference priced plus organized exchange traded), $e\u03bbrw$ , both overall and focusing on exports to destinations other than the United States , \n",
      "( ) 1\n",
      "e e\n",
      "\u2212 \u22c5 Xus rw \u03bb . Both variables are also interacted with the size of the exporting country relative \n",
      "to the United States (with experimentation on whether using euro area size as a proxy for size \n",
      "of countries in the euro area changes results). The variable e\n",
      "pipeuro\u2212ust\n",
      "reflects the \n",
      "differential in transaction costs between the euro and the dollar on the exporter country \n",
      "currency, while the dummy variable e\n",
      "H$ reflects whether the dollar is preferred over the euro d\n",
      "as a hedging currency on country e exports26. Some regressions include a Dollarbloc dummy \n",
      "variable, with the dollar bloc countries as Australia, Korea, Malaysia, and Thailand. The \n",
      "general specification is: \n",
      "\n",
      "![eq](/images/Revision_April_24_dollareq.pdf)\n",
      "\n",
      "[Krugman 1980 paper](http://www.nber.org/papers/w0333)\n"
     ]
    },
    {
     "cell_type": "code",
     "collapsed": false,
     "input": [
      "df = read_csv('italian_imports.csv', na_values=0)\n",
      "df"
     ],
     "language": "python",
     "metadata": {},
     "outputs": [],
     "prompt_number": 13
    },
    {
     "cell_type": "code",
     "collapsed": false,
     "input": [
      "df.year = df.year.dropna().apply(lambda x: datetime(int(x),1,1))"
     ],
     "language": "python",
     "metadata": {},
     "outputs": [],
     "prompt_number": 21
    },
    {
     "cell_type": "markdown",
     "metadata": {},
     "source": [
      "###Exploratory Visualizations"
     ]
    },
    {
     "cell_type": "code",
     "collapsed": false,
     "input": [
      "def vol_ploting(df):\n",
      "    # get the top 10% of trading partners by value count\n",
      "    top_trading_partners = df.xporter.value_counts()[:int(np.round(df.xporter.value_counts().size * 0.1))]\n",
      "    # find average of trading vol over each year\n",
      "    grouped = df.ix[:,['x3yv_E', 'x3yv_D', 'x1yv_E', 'x1yv_D','year','xporter']].groupby(['year','xporter']).mean()\n",
      "    \n",
      "    # Setup plotting\n",
      "    fig = plt.figure(figsize(18,25), dpi=1600)\n",
      "    \n",
      "    plot_count = 0 \n",
      "    for partner in top_trading_partners.index:\n",
      "        plot_count += 1\n",
      "        axes = fig.add_subplot(5,5,plot_count, axisbg=\"#DBDBDB\")\n",
      "        plot_data = grouped.xs(partner, level=1)\n",
      "        axes.plot(plot_data.index, plot_data)\n",
      "        axes.grid(axis='x', color='white', linestyle='dashed', lw=1) \n",
      "        if plot_count == 1 :\n",
      "            title('Euro / Dollar Exchange Rate\\n Volitlities for trading partner %s' % (int(partner)))\n",
      "            axes.legend(plot_data.columns, loc='best')\n",
      "            continue\n",
      "        title('For trading partner %s' % (int(partner)))\n",
      "    savefig('Exchange_rate_volitlity_top20.png', bbox_inches='tight')"
     ],
     "language": "python",
     "metadata": {},
     "outputs": [],
     "prompt_number": "*"
    },
    {
     "cell_type": "code",
     "collapsed": false,
     "input": [
      "vol_ploting(df)"
     ],
     "language": "python",
     "metadata": {},
     "outputs": [],
     "prompt_number": "*"
    },
    {
     "cell_type": "code",
     "collapsed": false,
     "input": [
      "def currency_obsevations_market_share_ploting(df):\n",
      "    # get the top 10% of trading partners by value count\n",
      "    top_trading_partners = df.xporter.value_counts()[:int(np.round(df.xporter.value_counts().size * 0.1))]\n",
      "    # find average of % of industry observations using what pricing over each year\n",
      "    grouped = df.ix[:,['pctO_PCP', 'pctO_VCP', 'pctO_LCP','pctO_USD','year','xporter']].groupby(['year','xporter']).mean()\n",
      "    \n",
      "    # Setup plotting\n",
      "    fig = plt.figure(figsize(18,25), dpi=1600)\n",
      "    \n",
      "    plot_count = 0 \n",
      "    for partner in top_trading_partners.index:\n",
      "        plot_count += 1\n",
      "        axes = fig.add_subplot(5,5,plot_count, axisbg=\"#DBDBDB\")\n",
      "        plot_data = grouped.xs(partner, level=1)\n",
      "        axes.plot(plot_data.index, plot_data)\n",
      "        axes.grid(axis='x', color='white', linestyle='dashed', lw=1) \n",
      "        if plot_count == 1 :\n",
      "            title(\"Perentage of industry currency usage by obsevations\\nfor trading partner %s\" % (int(partner)))\n",
      "            axes.legend(plot_data.columns, loc='best')\n",
      "            continue\n",
      "        title('For trading partner %s' % (int(partner)))\n",
      "    savefig('Currency_usage_observations_top20.png', bbox_inches='tight')"
     ],
     "language": "python",
     "metadata": {},
     "outputs": [],
     "prompt_number": "*"
    },
    {
     "cell_type": "code",
     "collapsed": false,
     "input": [
      "currency_obsevations_market_share_ploting(df)"
     ],
     "language": "python",
     "metadata": {},
     "outputs": [],
     "prompt_number": "*"
    },
    {
     "cell_type": "code",
     "collapsed": false,
     "input": [
      "def currency_trade_val_market_share_ploting(df):\n",
      "    # get the top 20 trading partners by value count\n",
      "    top_trading_partners = df.xporter.value_counts()[:int(np.round(df.xporter.value_counts().size * 0.1))]\n",
      "    # find average of % of industry observations using what pricing over each year\n",
      "    grouped = df.ix[:,['pctO_VnD', 'pctV_PCP','pctV_VCP', 'pctV_LCP','pctV_USD','pctV_VnD','year','xporter']].groupby(['year','xporter']).mean()\n",
      "    \n",
      "    # Setup plotting\n",
      "    fig = plt.figure(figsize(18,25), dpi=1600)\n",
      "    \n",
      "    plot_count = 0 \n",
      "    for partner in top_trading_partners.index:\n",
      "        plot_count += 1\n",
      "        axes = fig.add_subplot(5,5,plot_count, axisbg=\"#DBDBDB\")\n",
      "        plot_data = grouped.xs(partner, level=1)\n",
      "        axes.plot(plot_data.index, plot_data)\n",
      "        axes.grid(axis='x', color='white', linestyle='dashed', lw=1) \n",
      "        if plot_count == 1 :\n",
      "            title('Perentage of industry currency usage by trade value\\nfor trading partner %s' % (int(partner)))\n",
      "            axes.legend(plot_data.columns, loc='best')\n",
      "            continue\n",
      "        title('For trading partner %s' % (int(partner)))\n",
      "    savefig('Currency_usage_trade_value_top20.png', bbox_inches='tight')"
     ],
     "language": "python",
     "metadata": {},
     "outputs": [],
     "prompt_number": "*"
    },
    {
     "cell_type": "code",
     "collapsed": false,
     "input": [
      "currency_trade_val_market_share_ploting(df)"
     ],
     "language": "python",
     "metadata": {},
     "outputs": [],
     "prompt_number": "*"
    },
    {
     "cell_type": "code",
     "collapsed": false,
     "input": [
      "def porportion_xm_ploting(df):\n",
      "    # get the top 10% trading partners by value count\n",
      "    top_trading_partners = df.xporter.value_counts()[:int(np.round(df.xporter.value_counts().size * 0.1))]\n",
      "    # find average of % of industry observations using what pricing over each year\n",
      "    grouped = df.ix[:,['xx_w', 'xm_w', 'mx_w', 'mm_w', 'USx_w', 'USm_w','pctEMUxW', 'pctEMUmW','year','xporter']].groupby(['year','xporter']).mean()\n",
      "    \n",
      "    # Setup plotting\n",
      "    fig = plt.figure(figsize(18,25), dpi=1600)\n",
      "    \n",
      "    plot_count = 0 \n",
      "    for partner in top_trading_partners.index:\n",
      "        plot_count += 1\n",
      "        axes = fig.add_subplot(5,4,plot_count, axisbg=\"#DBDBDB\")\n",
      "        plot_data = grouped.xs(partner, level=1)\n",
      "        axes.plot(plot_data.index, plot_data)\n",
      "        axes.grid(axis='x', color='white', linestyle='dashed', lw=1) \n",
      "        if plot_count == 1 :\n",
      "            title('Perentage of imports and exports\\nfor trading partner %s' % (int(partner)))\n",
      "            axes.legend(plot_data.columns, loc='best')\n",
      "            continue\n",
      "        title('For trading partner %s' % (int(partner)))\n",
      "    savefig('prop_xm_top20.png', bbox_inches='tight')"
     ],
     "language": "python",
     "metadata": {},
     "outputs": [],
     "prompt_number": "*"
    },
    {
     "cell_type": "code",
     "collapsed": false,
     "input": [
      "porportion_xm_ploting(df)"
     ],
     "language": "python",
     "metadata": {},
     "outputs": [],
     "prompt_number": "*"
    },
    {
     "cell_type": "code",
     "collapsed": false,
     "input": [
      "def rate_derive_ploting(df):\n",
      "    # get the top 10 % of  trading partners by value count\n",
      "    top_trading_partners = df.xporter.value_counts()[:int(np.round(df.xporter.value_counts().size * 0.1))]\n",
      "    # find average of % of industry observations using what pricing over each year\n",
      "    grouped = df.ix[:,['xdexr_past', 'xdexr_now', 'xdint_past', 'xdint_now','year','xporter']].groupby(['year','xporter']).mean()\n",
      "    \n",
      "    # Setup plotting\n",
      "    fig = plt.figure(figsize(18,25), dpi=1600)\n",
      "    \n",
      "    plot_count = 0 \n",
      "    for partner in top_trading_partners.index:\n",
      "        plot_count += 1\n",
      "        axes = fig.add_subplot(5,5,plot_count, axisbg=\"#DBDBDB\")\n",
      "        plot_data = grouped.xs(partner, level=1)\n",
      "        axes.plot(plot_data.index, plot_data)\n",
      "        axes.grid(axis='x', color='white', linestyle='dashed', lw=1) \n",
      "        if plot_count == 1 :\n",
      "            title('Rate derivative and interest rate derivative activity\\nfor trading partner %s' % (int(partner)))\n",
      "            axes.legend(plot_data.columns, loc='best')\n",
      "            continue\n",
      "        title('For trading partner %s' % (int(partner)))\n",
      "    savefig('rate_derive_activity_top20.png', bbox_inches='tight')"
     ],
     "language": "python",
     "metadata": {},
     "outputs": [],
     "prompt_number": "*"
    },
    {
     "cell_type": "code",
     "collapsed": false,
     "input": [
      "rate_derive_ploting(df)"
     ],
     "language": "python",
     "metadata": {},
     "outputs": [],
     "prompt_number": "*"
    },
    {
     "cell_type": "code",
     "collapsed": false,
     "input": [
      "def exporter_trade_health(df):\n",
      "    # get the top 10 % trading partners by value count\n",
      "    top_trading_partners = df.xporter.value_counts()[:int(np.round(df.xporter.value_counts().size * 0.1))]\n",
      "    # find average of % of industry observations using what pricing over each year\n",
      "    grouped = df.ix[:,['xx_now', 'xx_past', 'xm_now', 'xm_past', 'year', 'xporter']].groupby(['year','xporter']).mean()\n",
      "    \n",
      "    # Setup plotting\n",
      "    fig = plt.figure(figsize(18,25), dpi=1600)\n",
      "    \n",
      "    plot_count = 0 \n",
      "    for partner in top_trading_partners.index:\n",
      "        plot_count += 1\n",
      "        axes = fig.add_subplot(5,5,plot_count, axisbg=\"#DBDBDB\")\n",
      "        plot_data = grouped.xs(partner, level=1)\n",
      "        axes.plot(plot_data.index, plot_data)\n",
      "        axes.grid(axis='x', color='white', linestyle='dashed', lw=1) \n",
      "        if plot_count == 1 :\n",
      "            title(\"Exporter's Trade Health\\nfor trading partner %s\" % (int(partner)))\n",
      "            axes.legend(plot_data.columns, loc='best')\n",
      "            continue\n",
      "        title('For trading partner %s' % (int(partner)))\n",
      "    savefig('exporter_trade_health_top20.png', bbox_inches='tight')"
     ],
     "language": "python",
     "metadata": {},
     "outputs": [],
     "prompt_number": "*"
    },
    {
     "cell_type": "code",
     "collapsed": false,
     "input": [
      "exporter_trade_health(df) # change to color  pairs so they are easily read"
     ],
     "language": "python",
     "metadata": {},
     "outputs": [],
     "prompt_number": "*"
    },
    {
     "cell_type": "markdown",
     "metadata": {},
     "source": [
      "    df['trade_health_now'] = df.xx_now - \n",
      "    \n",
      "    # we could look into something like net xports or measueres of country growth / health"
     ]
    },
    {
     "cell_type": "markdown",
     "metadata": {},
     "source": [
      "def present_v_past_trade_heath(df):\n",
      "    # get the top 10 % trading partners by value count\n",
      "    top_trading_partners = df.xporter.value_counts()[:int(np.round(df.xporter.value_counts().size * 0.1))]\n",
      "    # find average of % of industry observations using what pricing over each year\n",
      "    grouped = df.ix[:,['xx_now', 'xx_past', 'xm_now', 'xm_past', 'xy_now', 'xy_past', 'xc_now', 'xc_past', 'year', 'xporter']].groupby(['year','xporter']).mean()\n",
      "    \n",
      "    # Setup plotting\n",
      "    fig = plt.figure(figsize(18,25), dpi=1600)\n",
      "    \n",
      "    plot_count = 0 \n",
      "    for partner in top_trading_partners.index:\n",
      "        plot_count += 1\n",
      "        axes = fig.add_subplot(5,4,plot_count, axisbg=\"#DBDBDB\")\n",
      "        plot_data = grouped.xs(partner, level=1)\n",
      "        axes.plot(plot_data.index, plot_data)\n",
      "        axes.grid(axis='x', color='white', linestyle='dashed', lw=1) \n",
      "        if plot_count == 1 :\n",
      "            title(\"Exporter's economic strength\\nfor trading partner %s\" % (int(partner)))\n",
      "            axes.legend(plot_data.columns, loc='best')\n",
      "            continue\n",
      "        title('For trading partner %s' % (int(partner)))\n",
      "    savefig('exporter_health_top20.png', bbox_inches='tight')"
     ]
    },
    {
     "cell_type": "code",
     "collapsed": false,
     "input": [
      "def exporter_economic_strength(df):\n",
      "    # get the top 10 % trading partners by value count\n",
      "    top_trading_partners = df.xporter.value_counts()[:int(np.round(df.xporter.value_counts().size * 0.1))]\n",
      "    # find average of % of industry observations using what pricing over each year\n",
      "    grouped = df.ix[:,['xy_now', 'xc_now','xsdinf_now', 'xinf_now', 'year', 'xporter']].groupby(['year','xporter']).mean()\n",
      "    \n",
      "    # Setup plotting\n",
      "    fig = plt.figure(figsize(18,25), dpi=1600)\n",
      "    \n",
      "    plot_count = 0 \n",
      "    for partner in top_trading_partners.index:\n",
      "        plot_count += 1\n",
      "        axes = fig.add_subplot(5,5,plot_count, axisbg=\"#DBDBDB\")\n",
      "        plot_data = grouped.xs(partner, level=1)\n",
      "        axes.plot(plot_data.index, plot_data)\n",
      "        axes.grid(axis='x', color='white', linestyle='dashed', lw=1) \n",
      "        if plot_count == 1 :\n",
      "            title(\"Exporter's Economic Strength\\nfor trading partner %s\" % (int(partner)))\n",
      "            axes.legend(plot_data.columns, loc='best')\n",
      "            continue\n",
      "        title('For trading partner %s' % (int(partner)))\n",
      "    savefig('exporter_economic_strength_top20.png', bbox_inches='tight')"
     ],
     "language": "python",
     "metadata": {},
     "outputs": [],
     "prompt_number": "*"
    },
    {
     "cell_type": "code",
     "collapsed": false,
     "input": [
      "exporter_economic_strength(df)"
     ],
     "language": "python",
     "metadata": {},
     "outputs": [],
     "prompt_number": "*"
    },
    {
     "cell_type": "markdown",
     "metadata": {},
     "source": [
      "###Regressions:"
     ]
    },
    {
     "cell_type": "code",
     "collapsed": false,
     "input": [
      "ka.columns_to_plus(df)"
     ],
     "language": "python",
     "metadata": {},
     "outputs": [],
     "prompt_number": "*"
    },
    {
     "cell_type": "code",
     "collapsed": false,
     "input": [
      "results={}           # create a bin to hold the results of all of our models "
     ],
     "language": "python",
     "metadata": {},
     "outputs": [],
     "prompt_number": "*"
    },
    {
     "cell_type": "code",
     "collapsed": false,
     "input": [
      "dependent_var = 'USDcp ~ '"
     ],
     "language": "python",
     "metadata": {},
     "outputs": [],
     "prompt_number": "*"
    },
    {
     "cell_type": "code",
     "collapsed": false,
     "input": [
      "economic_strength = 'xx_now + xx_past + xm_now + xm_past + xy_now + xy_past + xc_now + xc_past'\n",
      "formula = dependent_var +  economic_strength"
     ],
     "language": "python",
     "metadata": {},
     "outputs": [],
     "prompt_number": "*"
    },
    {
     "cell_type": "code",
     "collapsed": false,
     "input": [
      "y, x = dmatrices(formula, data=df.dropna(), return_type='dataframe')# Prepare dataframe for regression\n",
      "mod = MNLogit(y, x)                                                 # Describe model, so it can be fitted  \n",
      "res1 = mod.fit()                                                    # Fit model\n",
      "\n",
      "results['economic_strength']=[res1, formula]                        # save results for later\n",
      "res1.summary()                                                      # Summarize model"
     ],
     "language": "python",
     "metadata": {},
     "outputs": [],
     "prompt_number": "*"
    },
    {
     "cell_type": "code",
     "collapsed": false,
     "input": [
      "exchange_rate_activity =  ' + x3yv_E + x3yv_D + x1yv_E + x1yv_D + pctO_PCP + pctO_VCP + pctO_LCP + pctO_USD + pctO_VnD + pctV_PCP + pctV_VCP + pctV_LCP + pctV_USD + pctV_VnD'\n",
      "formula = dependent_var + economic_strength + exchange_rate_activity"
     ],
     "language": "python",
     "metadata": {},
     "outputs": [],
     "prompt_number": "*"
    },
    {
     "cell_type": "code",
     "collapsed": false,
     "input": [
      "y, x = dmatrices(formula, data=df.dropna(), return_type='dataframe')# Prepare dataframe for regression\n",
      "mod = MNLogit(y, x)                                                 # Describe model, so it can be fitted  \n",
      "res2 = mod.fit()                                                    # Fit model\n",
      "\n",
      "results['exchange_rate_activity']=[res2, formula]                   # save results for later\n",
      "res2.summary()                                                      # Summarize model"
     ],
     "language": "python",
     "metadata": {},
     "outputs": [],
     "prompt_number": "*"
    },
    {
     "cell_type": "code",
     "collapsed": false,
     "input": [
      "dexr_interest_activity = ' + xdexr_past + xdexr_now + xdint_past + xdint_now + pctEMUxW + pctEMUmW'\n",
      "formula = dependent_var + economic_strength + exchange_rate_activity + dexr_interest_activity"
     ],
     "language": "python",
     "metadata": {},
     "outputs": [],
     "prompt_number": "*"
    },
    {
     "cell_type": "code",
     "collapsed": false,
     "input": [
      "y, x = dmatrices(formula, data=df.dropna(), return_type='dataframe')# Prepare dataframe for regression\n",
      "mod = MNLogit(y, x)                                                 # Describe model, so it can be fitted  \n",
      "res3 = mod.fit()                                                    # Fit model\n",
      "\n",
      "results['dexr_interest_activity']=[res3, formula]                         # save results for later\n",
      "res3.summary()                                                      # Summarize model"
     ],
     "language": "python",
     "metadata": {},
     "outputs": [],
     "prompt_number": "*"
    },
    {
     "cell_type": "code",
     "collapsed": false,
     "input": [
      "exporter_currency_health = ' + xsdinf_now + xsdinf_past + xinf_now + xinf_past'\n",
      "formula = dependent_var + economic_strength + exchange_rate_activity + dexr_interest_activity + exporter_currency_health"
     ],
     "language": "python",
     "metadata": {},
     "outputs": [],
     "prompt_number": "*"
    },
    {
     "cell_type": "code",
     "collapsed": false,
     "input": [
      "y, x = dmatrices(formula, data=df.dropna(), return_type='dataframe')# Prepare dataframe for regression\n",
      "mod = MNLogit(y, x)                                                 # Describe model, so it can be fitted  \n",
      "res4 = mod.fit()                                                    # Fit model\n",
      "\n",
      "results['exporter_currency_health']=[res4, formula]                         # save results for later\n",
      "res4.summary()                                                      # Summarize model"
     ],
     "language": "python",
     "metadata": {},
     "outputs": [],
     "prompt_number": "*"
    },
    {
     "cell_type": "code",
     "collapsed": false,
     "input": [
      "exporter_good_pricing = ' + x_xphmg + x_xpref + x_xpdif'\n",
      "formula = dependent_var + economic_strength + exchange_rate_activity + dexr_interest_activity + exporter_currency_health + exporter_good_pricing"
     ],
     "language": "python",
     "metadata": {},
     "outputs": [],
     "prompt_number": "*"
    },
    {
     "cell_type": "code",
     "collapsed": false,
     "input": [
      "y, x = dmatrices(formula, data=df.dropna(), return_type='dataframe')# Prepare dataframe for regression\n",
      "mod = MNLogit(y, x)                                                 # Describe model, so it can be fitted  \n",
      "res5 = mod.fit()                                                    # Fit model\n",
      "\n",
      "results['exporter_good_pricing']=[res5, formula]                         # save results for later\n",
      "res5.summary()                                                      # Summarize model"
     ],
     "language": "python",
     "metadata": {},
     "outputs": [],
     "prompt_number": "*"
    },
    {
     "cell_type": "code",
     "collapsed": false,
     "input": [
      "gdp_per_capita = ' + xgdppc_now + xgdppc_past'\n",
      "formula = dependent_var + economic_strength + exchange_rate_activity + dexr_interest_activity + exporter_currency_health + exporter_good_pricing + gdp_per_capita"
     ],
     "language": "python",
     "metadata": {},
     "outputs": [],
     "prompt_number": "*"
    },
    {
     "cell_type": "code",
     "collapsed": false,
     "input": [
      "y, x = dmatrices(formula, data=df.dropna(), return_type='dataframe')# Prepare dataframe for regression\n",
      "mod = MNLogit(y, x)                                                 # Describe model, so it can be fitted  \n",
      "res6 = mod.fit()                                                    # Fit model\n",
      "\n",
      "results['gdp_per_capita']=[res6, formula]                         # save results for later\n",
      "res6.summary()                                                      # Summarize model"
     ],
     "language": "python",
     "metadata": {},
     "outputs": [],
     "prompt_number": "*"
    },
    {
     "cell_type": "markdown",
     "metadata": {},
     "source": [
      "###Version Control"
     ]
    },
    {
     "cell_type": "code",
     "collapsed": false,
     "input": [
      "!git add US_Dollar_Vehicle_Currency.ipynb"
     ],
     "language": "python",
     "metadata": {},
     "outputs": [],
     "prompt_number": "*"
    },
    {
     "cell_type": "code",
     "collapsed": false,
     "input": [
      "!git commit"
     ],
     "language": "python",
     "metadata": {},
     "outputs": [],
     "prompt_number": "*"
    },
    {
     "cell_type": "code",
     "collapsed": false,
     "input": [
      "!git pull origin master"
     ],
     "language": "python",
     "metadata": {},
     "outputs": [],
     "prompt_number": "*"
    },
    {
     "cell_type": "code",
     "collapsed": false,
     "input": [],
     "language": "python",
     "metadata": {},
     "outputs": [],
     "prompt_number": "*"
    }
   ],
   "metadata": {}
  }
 ]
}